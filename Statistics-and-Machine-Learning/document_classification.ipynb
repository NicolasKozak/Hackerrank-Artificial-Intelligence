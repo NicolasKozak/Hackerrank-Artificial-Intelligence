{
 "cells": [
  {
   "cell_type": "code",
   "execution_count": 1,
   "id": "adde60ad",
   "metadata": {},
   "outputs": [],
   "source": [
    "import sys\n",
    "from sklearn.svm import LinearSVC\n",
    "from sklearn.feature_extraction.text import HashingVectorizer\n",
    "transformer=HashingVectorizer(stop_words='english')"
   ]
  },
  {
   "cell_type": "code",
   "execution_count": 2,
   "id": "5dd85ad1",
   "metadata": {},
   "outputs": [
    {
     "data": {
      "text/plain": [
       "LinearSVC()"
      ]
     },
     "execution_count": 2,
     "metadata": {},
     "output_type": "execute_result"
    }
   ],
   "source": [
    "_train=[]\n",
    "train_label=[]\n",
    "f=open('trainingdata.txt')\n",
    "for i in range(int(f.readline())):\n",
    "    s=f.readline().rstrip()\n",
    "    idx=s.find(' ')\n",
    "    _train.append(s[idx+1:])\n",
    "    train_label.append(int(s[:idx]))\n",
    "f.close()\n",
    "train = transformer.fit_transform(_train)\n",
    "svm=LinearSVC()\n",
    "svm.fit(train,train_label)"
   ]
  },
  {
   "cell_type": "code",
   "execution_count": 3,
   "id": "915601d5",
   "metadata": {},
   "outputs": [
    {
     "name": "stdout",
     "output_type": "stream",
     "text": [
      "1\n",
      "This is a document\n",
      "2\n"
     ]
    }
   ],
   "source": [
    "_test=[]\n",
    "for i in range(int(input())):\n",
    "    s=input().rstrip()\n",
    "    _test.append(s)\n",
    "test = transformer.transform(_test)\n",
    "test_label=svm.predict(test)\n",
    "for e in test_label: print(e)"
   ]
  }
 ],
 "metadata": {
  "kernelspec": {
   "display_name": "Python 3",
   "language": "python",
   "name": "python3"
  },
  "language_info": {
   "codemirror_mode": {
    "name": "ipython",
    "version": 3
   },
   "file_extension": ".py",
   "mimetype": "text/x-python",
   "name": "python",
   "nbconvert_exporter": "python",
   "pygments_lexer": "ipython3",
   "version": "3.6.13"
  }
 },
 "nbformat": 4,
 "nbformat_minor": 5
}
